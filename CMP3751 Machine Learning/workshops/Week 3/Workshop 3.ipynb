{
 "cells": [
  {
   "cell_type": "markdown",
   "metadata": {},
   "source": [
    "<span style=\"font-size: 36px;\">__Machine Learning Workshp 3 : Regression Analysis__.</span>\n",
    "<br>\n",
    "<br>\n",
    "<div style=\"text-align: center;\">\n",
    "<span style=\"font-size: 22px;\"> Welecome to our third workshop! </span> </div>\n",
    "\n",
    "It consists of four tasks of advancing difficulty.\n",
    "Please devote approximately 15 minutes per task Prior to each task we will discuss some theoretical aspects regarding single and multiple linear regression, polynomial regression as well as how to select the optimal regression models and perform hyperparameters tuning. We will explain the details of the Python functions and libraries that we will use."
   ]
  },
  {
   "cell_type": "markdown",
   "metadata": {},
   "source": [
    "<span style=\"font-size: 36px;\">__Table of Contents__</span>\n",
    "1. [Background: To know our data better](#Background:-To-know-our-data-better)\n",
    "1. [Exercise 1](#Exercise-1:-Simple-Linear-Regression-Analysis)\n",
    "1. [Background: Residuals](#Background:-Residuals)\n",
    "1. [Exercise 2](#Exercise-2:-Multiple-Linear-Regression-Analysis)\n",
    "1. [Background: Detect Missing Values](#Background:-Detect-Missing-Values)\n",
    "1. [Background: Transformation of Categorical Variables](#Background:-Transformation-of-Categorical-Variables)\n",
    "1. [Background: Scaling the data](#Background:-Scaling-the-data)\n",
    "1. [References](#References)"
   ]
  },
  {
   "cell_type": "markdown",
   "metadata": {},
   "source": [
    "# Background: To know our data better\n",
    "Firstly, we start by importing our libraries. These are usually the following:\n",
    "1. numpy\n",
    "2. pandas\n",
    "3. matplotlib.pyplot\n",
    "4. seaborn\n",
    "\n",
    "Then, we read the dataset using __pandas__ and do some basic explorations on it:\n",
    "<br>\n",
    "1. The ```df.head()``` returns the first __n rows__ for the given DataFrame(). This function is useful for __quickly testing__ if your object has the __right type of data__ in it.\n",
    "<br>\n",
    "1. The ```df.describe()``` generates __descriptive statistics__ for the given DataFrame. These __summarize__ the __central tendency, dispersion and shape__ of a dataset's distribution, excluding __NaN__ values.\n",
    "1. The __[seaborn](https://seaborn.pydata.org/)__ is a Python data visualization library based on __matplotlib__. It provides a __high-level interface__ for drawing attractive and informative statistical graphics. Its __[User Guide](https://seaborn.pydata.org/tutorial.html)__ may be found here.\n",
    "1. The __[seaborn.set_style(style,rc)](https://seaborn.pydata.org/generated/seaborn.set_style.html)__ sets the parameters that __control the general style of the plots__ such as the __background color__ and whether a __grid is enabled__ by default:\n",
    "```python\n",
    "sns.set_style(\"darkgrid\", {\"grid.color\": \".6\", \"grid.linestyle\": \":\"})\n",
    "sns.lineplot(x=[\"A\", \"B\", \"C\"], y=[1, 3, 2])\n",
    "```\n",
    "1. The __[seaborn.kdeplot](https://seaborn.pydata.org/generated/seaborn.kdeplot.html)__ plots univariate or bivariate distributions using kernel density estimation. A __Kernel Density Estimation (KDE)__ plot is a method for visualizing the distribution of observations in a dataset, __analogous__ to a histogram. It __represents__ the data using a __continuous probability density curve__ in __one__ or __more__ dimensions. To plot a __univariate distribution__ along the x axis: \n",
    "```python\n",
    "import seaborn as sns\n",
    "tips = sns.load_dataset(\"tips\")\n",
    "sns.kdeplot(data=tips, x=\"total_bill\")\n",
    "```\n",
    "To plot distributions for each column of a wide-form dataset:\n",
    "```python\n",
    "iris = sns.load_dataset(\"iris\")\n",
    "sns.kdeplot(data=iris)\n",
    "```\n",
    "To plot conditional distributions with __hue mapping__ of a second variable:\n",
    "``` python\n",
    "sns.kdeplot(data=tips, x=\"total_bill\", hue=\"time\")\n",
    "```\n",
    "To __\"stack\"__ the conditional distributions:\n",
    "```python\n",
    "sns.kdeplot(data=tips, x=\"total_bill\", hue=\"time\",multiple=\"stack\")\n",
    "```\n",
    "1. The __[pandas.DataFrame.corr](https://pandas.pydata.org/docs/reference/api/pandas.DataFrame.corr.html)__ scomputes pairwise correlation of columns, excluding NA/null values. The __correlation method__ is by default the __'pearson'__ but may change either to __'kendall'__ or to __'spearman'__. It returns a __float ndarray__. It has __'1's__ along the __diagonal line__ and will be __symmetric__ regardless of the callable's behavior. In its __simplest form__ you may call it as ```df.corr()```.\n",
    "1. The __[seaborn.heatmap](https://seaborn.pydata.org/generated/seaborn.heatmap.html)__ plots rectangular data as a __color encoded matrix__. The __data parameter__ is a 2D dataset that can be coerced into an ndarray, If a __Pandas DataFrame__ is provided, the __index/column__ information will be used to __label__ the columns and rows. If __annot=True__, then write the __value__ to annotate the heatmap. The __cmap parameter__ is used to __perform the mapping__ from data values to colorspace. An example may be the following:\n",
    "```python\n",
    "sns.heatmap(df.corr(),annot=True,cmap='coolwarm')\n",
    "```"
   ]
  },
  {
   "cell_type": "markdown",
   "metadata": {},
   "source": [
    "# Exercise 1: Simple Linear Regression Analysis\n",
    "In this exercise we will work the csv file 'USA_Housing.csv', which contains some factors __(independent variables)__.\n",
    "These are used to predict the __dependent variable__, which is the house price. You should do the following:\n",
    "1. Firstly read the dataset and import it to your Jupyter Notebook as a Pandas DataFrame. Then perform an initial checking regarding its shape and return the first 7 rows.\n",
    "1. If everything is fine, then present the standard descriptive statistics. Please pay attention to the values and try to __\"understand\"__ your data. This is the __art of a machine learning expert__ that will guide you towards the __top of the AI scientists__!\n",
    "1. Select a __predictor / independent variable__ that you think is the best one and __visualize__ it __in association with__ the dependent variable. What do you observe? Is it really a descriptive one?\n",
    "1. Then verify whether the __output variable__ follows a __normal distribution__ by using the ```seaborn.kdeplot()``` function.\n",
    "1. __Compute the correllation__ among all the pairs formed by the predictors and the dependent variables and visualize them through a __heatmap__.\n",
    "1. Can you compare the heatmap information with your previous choice of the __best predictor__. Please revise/update your selection accordingly and perform a simple linear regression analysis with __train_test_split__.\n",
    "1. Print the regression analysis coefficients.\n",
    "1. Evaluate your analysis through the __Mean Absolute Error__, the __Root Mean Squared Error__ and the __Coefficient of Determination__."
   ]
  },
  {
   "cell_type": "code",
   "execution_count": 10,
   "metadata": {},
   "outputs": [],
   "source": [
    "# Place your code here"
   ]
  },
  {
   "attachments": {
    "Residuals.png": {
     "image/png": "[encoded data removed]"
    }
   },
   "cell_type": "markdown",
   "metadata": {},
   "source": [
    "# Background: Residuals\n",
    "A __residual__ is a measure of __how far away__ a point is __vertically__ from the __regression line__. Otherwise, it is the __error__ between a __predicted__ and the __observed value__ : \n",
    "$e_i = y_i - \\hat{y}_i$\n",
    "\n",
    "The __most important__ assumption of a linear regression model is that the __errors are independent and normally distributed__.\n",
    "\n",
    "The __characteristics__ of a __good__ resudual plot are:\n",
    "1. It has a __high density__ of points __close to the origin__ and a __low density__ of points __away from the origin__.\n",
    "1. It is __symmetric__ about the origin.\n",
    "\n",
    "The __[seaborn.displot()](https://seaborn.pydata.org/generated/seaborn.displot.html#seaborn.displot)__ provides access to several approaches for visualizing the __univariate__ or __bivariate__ distribution of data. The __kind__ parameter selects the approach to use:\n",
    "1. Plot a __histogram__ of binned counts with optional normalization or smoothing: ```histplot()``` (with ```kind=\"hist\"``` / default)\n",
    "1. Plot univariate or bivariate distributions using __kernel density estimation__: ```kdeplot()``` (with ```kind=\"kde\"```)\n",
    "1. Plot __empirical cumulative distribution functions__: ```ecdfplot()``` (with ```kind=\"ecdf\"``` / univariate only)\n",
    "\n",
    "The __data__ parameter is used for the __input data__. It can be either a pandas.DataFrame, numpy.ndarray, mapping or sequence.\n",
    "\n",
    "While in __histogram mode__, it is also possible to __add a KDE curve__:\n",
    "```python\n",
    "sns.displot((y_test-predictions),kde=True)\n",
    "```\n",
    "It will result in the following Figure:\n",
    "![Residuals.png](attachment:Residuals.png)"
   ]
  },
  {
   "cell_type": "markdown",
   "metadata": {},
   "source": [
    "# Exercise 2: Multiple Regression Analysis\n",
    "Now repeat the same analysis by inserting in your analysis all the available predictors. Use the same evaluation metrics to decide whether your new model is better than the previous one. What about the residuals?"
   ]
  },
  {
   "cell_type": "code",
   "execution_count": 11,
   "metadata": {},
   "outputs": [],
   "source": [
    "# Place your code here"
   ]
  },
  {
   "cell_type": "markdown",
   "metadata": {},
   "source": [
    "# Background: Detect Missing Values\n",
    "1. The ```df.isna()``` __detects__ missing values. It returns a boolean same-sized object indicating if the values are NA. \n",
    "NA values such as __None__ or __numpy.Nan__, get mapped to __True__ values.\n",
    "Everything else gets mapped to __False__ values. Characters such as empty strings __''__ or __numpy.inf__ are not considered __NA values__.\n",
    "1. The ```df.isna().sum()``` returns the columns in our Pandas DataFrame along with the __number of missing values__ detected in __each one__."
   ]
  },
  {
   "cell_type": "markdown",
   "metadata": {},
   "source": [
    "# Background: Transformation of Categorical Variables\n",
    "Since machine learning models can __take only numeric values__, we need to __replace__ the __categorical string values__ with __numeric values__:\n",
    "```python\n",
    "# Define a mapping of categorical values to numeric values\n",
    "sex_mapping={'female':0,'male':1}\n",
    "# Replace the categorical variables with the numeric ones\n",
    "df['sex']=df['sex'].replace(sex_mapping)\n",
    "```"
   ]
  },
  {
   "cell_type": "markdown",
   "metadata": {},
   "source": [
    "# Background: Scaling the data\n",
    "Prior to the application of a machine learning algorithm, it is a __good practice__ to __scale the data__ and bring them to the __same range__.\n",
    "\n",
    "We will use the __[StandardScaler method](https://scikit-learn.org/stable/modules/generated/sklearn.preprocessing.StandardScaler.html)__ for that:\n",
    "```python\n",
    "from sklearn.preprocessing import StandardScaler\n",
    "scaler = StandardScaler()\n",
    "X_train_scaler = scaler.fit_transform(X_train)\n",
    "X_test_scaler = scaler.transform(X_test)\n",
    "```"
   ]
  },
  {
   "cell_type": "markdown",
   "metadata": {},
   "source": [
    "# Exercise 3:\n",
    "In this exercise you have to load to your Jupyter Notebook the file __'insurance.csv'__. You will use the __'expenses'__ as the __dependent variable/outcome__ and all the others will be your predictors. Try different polynomial models by changing the order of the polynomial from 2 to 6. Which one performs better? Justify your reply based on evaluation metrics computed on both training and test set.\n",
    "\n",
    "__Hint__: As Polynomial Regression is based on __Linear Regression__, we need to import both LinearRegression and Polynomial Features methods:\n",
    "1. The first step is to call the PolynomialFeatures method with the degree of power.\n",
    "1. Transform the train and test data and fit them into the PolynomialFeatures method.\n",
    "1. Then, use the input and output variables for training through the Linear Regression method."
   ]
  },
  {
   "cell_type": "code",
   "execution_count": 12,
   "metadata": {},
   "outputs": [],
   "source": [
    "# Place your code here"
   ]
  },
  {
   "cell_type": "markdown",
   "metadata": {},
   "source": [
    "# Exercise 4:"
   ]
  },
  {
   "cell_type": "code",
   "execution_count": 13,
   "metadata": {},
   "outputs": [],
   "source": [
    "# Place your code here"
   ]
  },
  {
   "cell_type": "markdown",
   "metadata": {},
   "source": [
    "# References\n",
    "__[seaborn](https://seaborn.pydata.org/)__\n",
    "<br>\n",
    "__[User Guide](https://seaborn.pydata.org/tutorial.html)__\n",
    "<br>\n",
    "__[seaborn.set_style(style,rc)](https://seaborn.pydata.org/generated/seaborn.set_style.html)__\n",
    "<br>\n",
    "__[seaborn.kdeplot](https://seaborn.pydata.org/generated/seaborn.kdeplot.html)__ \n",
    "<br>\n",
    "__[pandas.DataFrame.corr](https://pandas.pydata.org/docs/reference/api/pandas.DataFrame.corr.html)__\n",
    "<br>\n",
    "__[seaborn.heatmap](https://seaborn.pydata.org/generated/seaborn.heatmap.html)__\n",
    "<br>\n",
    "__[seaborn.displot()](https://seaborn.pydata.org/generated/seaborn.displot.html#seaborn.displot)__\n",
    "<br>\n",
    "__[StandardScaler method](https://scikit-learn.org/stable/modules/generated/sklearn.preprocessing.StandardScaler.html)__ "
   ]
  },
  {
   "cell_type": "markdown",
   "metadata": {},
   "source": [
    "Please visit the following link for __[Workshop 3 Evaluation](https://app.wooclap.com/PIHHOO?from=event-page)__\n",
    "<br>\n",
    "Tell us your opinion about this workshop and how we could become better in the next one.\n",
    "<br>\n",
    "__Your opinion matters!!!__)__\n",
    "<br>\n",
    "Tell us your opinion about this workshop and how we could become better in the next one.\n",
    "<br>\n",
    "__Your opinion matters!!!__"
   ]
  },
  {
   "cell_type": "code",
   "execution_count": null,
   "metadata": {},
   "outputs": [],
   "source": []
  },
  {
   "cell_type": "code",
   "execution_count": null,
   "metadata": {},
   "outputs": [],
   "source": []
  }
 ],
 "metadata": {
  "kernelspec": {
   "display_name": "Python 3",
   "language": "python",
   "name": "python3"
  },
  "language_info": {
   "codemirror_mode": {
    "name": "ipython",
    "version": 3
   },
   "file_extension": ".py",
   "mimetype": "text/x-python",
   "name": "python",
   "nbconvert_exporter": "python",
   "pygments_lexer": "ipython3",
   "version": "3.8.5"
  }
 },
 "nbformat": 4,
 "nbformat_minor": 4
}
